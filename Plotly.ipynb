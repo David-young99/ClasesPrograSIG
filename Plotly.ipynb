{
 "cells": [
  {
   "cell_type": "code",
   "execution_count": 14,
   "id": "caa11923",
   "metadata": {},
   "outputs": [],
   "source": [
    "# Carga de plotly express\n",
    "import plotly.express as px\n",
    "\n",
    "# Carga de plotly figure factory,\n",
    "# para tipos adicionales de gráficos\n",
    "import plotly.figure_factory as ff\n",
    "\n",
    "# Carga de pandas\n",
    "import pandas as pd"
   ]
  },
  {
   "cell_type": "code",
   "execution_count": 15,
   "id": "93964dbd",
   "metadata": {},
   "outputs": [],
   "source": [
    "# Carga de datos generales\n",
    "covid_general = pd.read_csv(\"datos/graficacion/05_30_22_CSV_GENERAL.csv\", sep=\";\")"
   ]
  },
  {
   "cell_type": "code",
   "execution_count": 16,
   "id": "c0da20d9",
   "metadata": {},
   "outputs": [],
   "source": [
    "# Carga de casos positivos\n",
    "covid_cantonal_positivos = pd.read_csv(\"datos/graficacion/05_30_22_CSV_POSITIVOS.csv\", \n",
    "                                       sep=\";\", \n",
    "                                       encoding=\"iso-8859-1\") # para leer tildes y otros caracteres\n",
    "\n",
    "# Carga de casos activos\n",
    "covid_cantonal_activos = pd.read_csv(\"datos/graficacion/05_30_22_CSV_ACTIVOS.csv\", \n",
    "                                     sep=\";\", \n",
    "                                     encoding=\"iso-8859-1\") # para leer tildes y otros caracteres\n",
    "\n",
    "# Carga de casos recuperados\n",
    "covid_cantonal_recuperados = pd.read_csv(\"datos/graficacion/05_30_22_CSV_RECUP.csv\", \n",
    "                                         sep=\";\", \n",
    "                                         encoding=\"iso-8859-1\") # para leer tildes y otros caracteres\n",
    "\n",
    "# Carga de casos fallecidos\n",
    "covid_cantonal_fallecidos = pd.read_csv(\"datos/graficacion/05_30_22_CSV_FALLECIDOS.csv\", \n",
    "                                        sep=\";\", \n",
    "                                        encoding=\"iso-8859-1\") # para leer tildes y otros caracteres"
   ]
  },
  {
   "cell_type": "code",
   "execution_count": 17,
   "id": "e683b461",
   "metadata": {},
   "outputs": [],
   "source": [
    "# Reducción de columnas\n",
    "covid_general = covid_general[[\"FECHA\", \"positivos\", \"activos\", \"RECUPERADOS\", \"fallecidos\", \n",
    "                               \"nue_posi\", \"nue_falleci\", \"salon\", \"UCI\"]]\n",
    "\n",
    "# Cambio de nombre de las columnas a minúsculas y a nombres más claros\n",
    "covid_general = covid_general.rename(columns={\"FECHA\": \"fecha\",\n",
    "                                              \"RECUPERADOS\": \"recuperados\",\n",
    "                                              \"nue_posi\": \"nuevos_positivos\",\n",
    "                                              \"nue_falleci\": \"nuevos_fallecidos\",\n",
    "                                              \"UCI\": \"uci\"})\n",
    "\n",
    "# Cambio del tipo de datos del campo de fecha\n",
    "covid_general[\"fecha\"] = pd.to_datetime(covid_general[\"fecha\"], format=\"%d/%m/%Y\")"
   ]
  },
  {
   "cell_type": "code",
   "execution_count": null,
   "id": "b1ea12b5",
   "metadata": {},
   "outputs": [],
   "source": []
  },
  {
   "cell_type": "code",
   "execution_count": null,
   "id": "10dbf856",
   "metadata": {},
   "outputs": [],
   "source": []
  }
 ],
 "metadata": {
  "kernelspec": {
   "display_name": "Python 3 (ipykernel)",
   "language": "python",
   "name": "python3"
  },
  "language_info": {
   "codemirror_mode": {
    "name": "ipython",
    "version": 3
   },
   "file_extension": ".py",
   "mimetype": "text/x-python",
   "name": "python",
   "nbconvert_exporter": "python",
   "pygments_lexer": "ipython3",
   "version": "3.10.6"
  }
 },
 "nbformat": 4,
 "nbformat_minor": 5
}
